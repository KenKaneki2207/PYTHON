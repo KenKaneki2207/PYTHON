{
  "nbformat": 4,
  "nbformat_minor": 0,
  "metadata": {
    "colab": {
      "provenance": [],
      "collapsed_sections": [],
      "authorship_tag": "ABX9TyMfx4NbFUMO6UNn+WyOHXal",
      "include_colab_link": true
    },
    "kernelspec": {
      "name": "python3",
      "display_name": "Python 3"
    },
    "language_info": {
      "name": "python"
    }
  },
  "cells": [
    {
      "cell_type": "markdown",
      "metadata": {
        "id": "view-in-github",
        "colab_type": "text"
      },
      "source": [
        "<a href=\"https://colab.research.google.com/github/KenKaneki2207/PYTHON/blob/FDS-Assignment/ASS_2.ipynb\" target=\"_parent\"><img src=\"https://colab.research.google.com/assets/colab-badge.svg\" alt=\"Open In Colab\"/></a>"
      ]
    },
    {
      "cell_type": "code",
      "execution_count": null,
      "metadata": {
        "id": "haFjjFAAlr_5"
      },
      "outputs": [],
      "source": [
        "#Assignment 2"
      ]
    },
    {
      "cell_type": "code",
      "source": [
        "#taking input from the user of student names and marks\n",
        "n=int(input(\"Enter the number of students: \"))\n",
        "D={}#creating a dictionay with names as keys and values as marks\n",
        "for i in range(n):\n",
        "  st=input(\"Enter the name of students: \")\n",
        "  if i==0:\n",
        "    print()\n",
        "    print(\"'IF THE STUDENT WAS ABSENT FOR THE EXAM \\nPLS LEAVE THE SPACE OR ENTER'\")\n",
        "    print()\n",
        "  marks=input(\"Enter the marks of student: \")\n",
        "  D[st]=marks\n",
        "print(D)"
      ],
      "metadata": {
        "colab": {
          "base_uri": "https://localhost:8080/"
        },
        "id": "ajQfUaqPowMD",
        "outputId": "107ec21d-61b3-4200-b893-2035b0c98c79"
      },
      "execution_count": null,
      "outputs": [
        {
          "output_type": "stream",
          "name": "stdout",
          "text": [
            "Enter the number of students: 10\n",
            "Enter the name of students: Ganesh\n",
            "\n",
            "'IF THE STUDENT WAS ABSENT FOR THE EXAM \n",
            "PLS LEAVE THE SPACE OR ENTER'\n",
            "\n",
            "Enter the marks of student: 76\n",
            "Enter the name of students: Soffiya\n",
            "Enter the marks of student: 100\n",
            "Enter the name of students: Samee\n",
            "Enter the marks of student: 95\n",
            "Enter the name of students: Pinka\n",
            "Enter the marks of student: \n",
            "Enter the name of students: Danu\n",
            "Enter the marks of student: 79\n",
            "Enter the name of students: Smit\n",
            "Enter the marks of student: 79\n",
            "Enter the name of students: Sushant\n",
            "Enter the marks of student: 79\n",
            "Enter the name of students: Alfarha\n",
            "Enter the marks of student: 76\n",
            "Enter the name of students: Khadija\n",
            "Enter the marks of student: 65\n",
            "Enter the name of students: Nisha\n",
            "Enter the marks of student: 95\n",
            "{'Ganesh': '76', 'Soffiya': '100', 'Samee': '95', 'Pinka': '', 'Danu': '79', 'Smit': '79', 'Sushant': '79', 'Alfarha': '76', 'Khadija': '65', 'Nisha': '95'}\n"
          ]
        }
      ]
    },
    {
      "cell_type": "code",
      "source": [
        "#No. of stuents attended the Exam\n",
        "c=0\n",
        "for i in D.values():\n",
        "  if i in[' ','']:\n",
        "    c+=1\n",
        "n=n-c#only taking the avg from the students who attended the exam\n",
        "print(\"Number of students attended the exam are \",n)"
      ],
      "metadata": {
        "colab": {
          "base_uri": "https://localhost:8080/"
        },
        "id": "5QNUXocJuFtt",
        "outputId": "319087c2-f028-43f1-ba0c-6e8b8cfe2c79"
      },
      "execution_count": null,
      "outputs": [
        {
          "output_type": "stream",
          "name": "stdout",
          "text": [
            "Number of students attended the exam are  9\n"
          ]
        }
      ]
    },
    {
      "cell_type": "code",
      "source": [
        "print(D)"
      ],
      "metadata": {
        "colab": {
          "base_uri": "https://localhost:8080/"
        },
        "id": "QT5CCtKaD0z2",
        "outputId": "6986bd62-95eb-46ff-94d3-59dec0ec07b6"
      },
      "execution_count": null,
      "outputs": [
        {
          "output_type": "stream",
          "name": "stdout",
          "text": [
            "{'Ganesh': '76', 'Soffiya': '100', 'Samee': '95', 'Pinka': '', 'Danu': '79', 'Smit': '79', 'Sushant': '79', 'Alfarha': '76', 'Khadija': '65', 'Nisha': '95'}\n"
          ]
        }
      ]
    },
    {
      "cell_type": "code",
      "source": [
        "#average score of the class\n",
        "#Absent students\n",
        "avg=0\n",
        "Marks=[]\n",
        "for i in D:\n",
        "  if D[i] in[\" \",\"\"]:\n",
        "    print(\"Absent Student\",i)\n",
        "  else:\n",
        "    D[i]=int(D[i])\n",
        "    Marks.append(D[i])#adding the marks in another list 'Marks'\n",
        "    avg+=D[i]\n",
        "print(\"Average score of the class: \",avg/n)"
      ],
      "metadata": {
        "colab": {
          "base_uri": "https://localhost:8080/"
        },
        "id": "U1f2Q3lCpsXY",
        "outputId": "7324a600-614d-428a-bf34-d7d78a536856"
      },
      "execution_count": null,
      "outputs": [
        {
          "output_type": "stream",
          "name": "stdout",
          "text": [
            "Absent Student Pinka\n",
            "Average score of the class:  82.66666666666667\n"
          ]
        }
      ]
    },
    {
      "cell_type": "code",
      "source": [
        "print(Marks)"
      ],
      "metadata": {
        "colab": {
          "base_uri": "https://localhost:8080/"
        },
        "id": "LR6OojQ_GpYO",
        "outputId": "3e087197-770f-4674-a878-49303b74a066"
      },
      "execution_count": null,
      "outputs": [
        {
          "output_type": "stream",
          "name": "stdout",
          "text": [
            "[76, 100, 95, 79, 79, 79, 76, 65, 95]\n"
          ]
        }
      ]
    },
    {
      "cell_type": "code",
      "source": [
        "#Highest Score and Lowest Score\n",
        "print(\"Highest Score\",max(Marks))\n",
        "print(\"Lowest Score\",min(Marks))"
      ],
      "metadata": {
        "colab": {
          "base_uri": "https://localhost:8080/"
        },
        "id": "SkREyPGUtD5x",
        "outputId": "e2a970a5-d1e7-498d-d4fe-daf006aa83af"
      },
      "execution_count": null,
      "outputs": [
        {
          "output_type": "stream",
          "name": "stdout",
          "text": [
            "Highest Score 100\n",
            "Lowest Score 65\n"
          ]
        }
      ]
    },
    {
      "cell_type": "code",
      "source": [
        "#Highest frequency\n",
        "Frequency={}\n",
        "count=0\n",
        "for i in Marks:\n",
        "  for j in Marks:\n",
        "    if i==j:\n",
        "      count+=1#count of same marks got by different students\n",
        "      Frequency[i]=count#Marks---> keys and Count---> values\n",
        "  count=0#reducing the values of count to zero, becoz when it checks for another values of i =, the count should start from fresh(0)\n",
        "print(Frequency)\n",
        "for i in Frequency:\n",
        "  if Frequency[i]==max(Frequency.values()):\n",
        "    print(\"Highest Frequency is\",i,\"and\",Frequency[i])"
      ],
      "metadata": {
        "id": "y_P-KmIAyR7T",
        "colab": {
          "base_uri": "https://localhost:8080/"
        },
        "outputId": "d7001fa7-efd1-4c9c-d62a-09ec241558ff"
      },
      "execution_count": null,
      "outputs": [
        {
          "output_type": "stream",
          "name": "stdout",
          "text": [
            "{76: 2, 100: 1, 95: 2, 79: 3, 65: 1}\n",
            "Highest Frequency is 79 and 3\n"
          ]
        }
      ]
    }
  ]
}