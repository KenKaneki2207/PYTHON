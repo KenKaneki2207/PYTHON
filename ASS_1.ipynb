{
  "cells": [
    {
      "cell_type": "markdown",
      "metadata": {
        "id": "view-in-github",
        "colab_type": "text"
      },
      "source": [
        "<a href=\"https://colab.research.google.com/github/KenKaneki2207/PYTHON/blob/FDS-Assignment/ASS_1.ipynb\" target=\"_parent\"><img src=\"https://colab.research.google.com/assets/colab-badge.svg\" alt=\"Open In Colab\"/></a>"
      ]
    },
    {
      "cell_type": "code",
      "execution_count": null,
      "metadata": {
        "id": "d53Obt3O4uUA",
        "colab": {
          "base_uri": "https://localhost:8080/"
        },
        "outputId": "f9f8fb12-c78b-4b39-9fb9-a080bb41ecfa"
      },
      "outputs": [
        {
          "output_type": "stream",
          "name": "stdout",
          "text": [
            "Enter the number of players in Cricket Team 3\n",
            "Enter the name of studentganesh\n",
            "Enter the name of studentrohit\n",
            "Enter the name of studentpankaj\n",
            "\n",
            "Enter the number of players in Badminton Team 4\n",
            "Enter the name of studentharshita\n",
            "Enter the name of studentharsh\n",
            "Enter the name of studentmayur\n",
            "Enter the name of studentganesh\n",
            "\n",
            "Enter the number of players in Football Team 3\n",
            "Enter the name of studentmayur\n",
            "Enter the name of studentganesh\n",
            "Enter the name of studentsamee\n",
            "CRICKET LIST ['ganesh', 'rohit', 'pankaj']\n",
            "BADMINTON LIST ['harshita', 'harsh', 'mayur', 'ganesh']\n",
            "FOOTBALL LIST ['mayur', 'ganesh', 'samee']\n"
          ]
        }
      ],
      "source": [
        "#user input for cricket,football,badminton players \n",
        "group_c=[]\n",
        "group_b=[]\n",
        "group_f=[]\n",
        "num1=int(input(\"Enter the number of players in Cricket Team \"))\n",
        "for i in range(1,num1+1):\n",
        "  element=input(\"Enter the name of student\")\n",
        "  group_c.append(element)\n",
        "\n",
        "num2=int(input(\"\\nEnter the number of players in Badminton Team \"))\n",
        "for i in range(1,num2+1):\n",
        "  element=input(\"Enter the name of student\")\n",
        "  group_b.append(element)\n",
        "\n",
        "num3=int(input(\"\\nEnter the number of players in Football Team \"))\n",
        "for i in range(1,num3+1):\n",
        "  element=input(\"Enter the name of student\")\n",
        "  group_f.append(element)\n",
        "\n",
        "print('CRICKET LIST',group_c)\n",
        "print('BADMINTON LIST',group_b)\n",
        "print('FOOTBALL LIST',group_f)"
      ]
    },
    {
      "cell_type": "code",
      "source": [
        "oki"
      ],
      "metadata": {
        "id": "h9RoH9nD3k1V"
      },
      "execution_count": null,
      "outputs": []
    },
    {
      "cell_type": "code",
      "source": [
        "#code to found copmmon between two sets\n",
        "def common(s1,s2):\n",
        "  common_set=[]\n",
        "  for i in s1:\n",
        "    for j in s2:\n",
        "      if i==j:#common element in both sets\n",
        "        common_set.append(j)#adding common element in a set\n",
        "  return common_set\n",
        "common(group_c,group_f)"
      ],
      "metadata": {
        "colab": {
          "base_uri": "https://localhost:8080/"
        },
        "id": "nvxEmJ7fS7Ed",
        "outputId": "590569fa-6857-41fd-dbef-f07aafdcbfcf"
      },
      "execution_count": null,
      "outputs": [
        {
          "output_type": "execute_result",
          "data": {
            "text/plain": [
              "['ganesh']"
            ]
          },
          "metadata": {},
          "execution_count": 9
        }
      ]
    },
    {
      "cell_type": "code",
      "source": [
        "##List of students who play either cricket or badminton but not both \n",
        "Union=group_c+group_b\n",
        "both=common(group_c,group_b)#added common players of badminton and cricket in both list using common function created by user\n",
        "for i in Union:\n",
        "  if i in both:\n",
        "    Union.remove(i)#removing the commmon elements\n",
        "print(Union)"
      ],
      "metadata": {
        "colab": {
          "base_uri": "https://localhost:8080/"
        },
        "id": "dQSt9VKxL_RJ",
        "outputId": "ae09cbac-0a5a-4dc9-e94c-29c02bc5afbc"
      },
      "execution_count": null,
      "outputs": [
        {
          "output_type": "stream",
          "name": "stdout",
          "text": [
            "['rohit', 'pankaj', 'harshita', 'harsh', 'mayur']\n"
          ]
        }
      ]
    },
    {
      "cell_type": "code",
      "source": [
        "#Number of students who play neither cricket nor badminton \n",
        "only_f=group_f\n",
        "for i in group_f:\n",
        "  if i in (group_c or group_b):#checking the elements in cricket and badminton\n",
        "    only_f.remove(i)#delete the common element from footall list\n",
        "print(only_f)"
      ],
      "metadata": {
        "colab": {
          "base_uri": "https://localhost:8080/"
        },
        "id": "tZStEzJjO8Zg",
        "outputId": "9cf797fa-134b-44a8-8a27-8dea3b115bf6"
      },
      "execution_count": null,
      "outputs": [
        {
          "output_type": "stream",
          "name": "stdout",
          "text": [
            "['mayur', 'samee']\n"
          ]
        }
      ]
    },
    {
      "cell_type": "code",
      "source": [
        "#Number of students who play cricket and football but not badminton. \n",
        "Union=group_c+group_f#union = players in cricket and football\n",
        "for i in Union:\n",
        "  if i in group_b:\n",
        "    Union.remove(i)#deleting the players of badminton group from union\n",
        "print(Union)"
      ],
      "metadata": {
        "id": "R4qp8YCagS4C",
        "colab": {
          "base_uri": "https://localhost:8080/"
        },
        "outputId": "36e41a24-99ce-4d59-8bec-a4b6fc2ade09"
      },
      "execution_count": null,
      "outputs": [
        {
          "output_type": "stream",
          "name": "stdout",
          "text": [
            "['rohit', 'pankaj', 'samee']\n"
          ]
        }
      ]
    }
  ],
  "metadata": {
    "colab": {
      "provenance": [],
      "collapsed_sections": [],
      "include_colab_link": true
    },
    "kernelspec": {
      "display_name": "Python 3",
      "name": "python3"
    },
    "language_info": {
      "name": "python"
    }
  },
  "nbformat": 4,
  "nbformat_minor": 0
}