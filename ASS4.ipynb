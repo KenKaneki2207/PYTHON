{
  "nbformat": 4,
  "nbformat_minor": 0,
  "metadata": {
    "colab": {
      "provenance": [],
      "collapsed_sections": [],
      "authorship_tag": "ABX9TyO+/A3Mxfvti0GnoM0cIdFK",
      "include_colab_link": true
    },
    "kernelspec": {
      "name": "python3",
      "display_name": "Python 3"
    },
    "language_info": {
      "name": "python"
    }
  },
  "cells": [
    {
      "cell_type": "markdown",
      "metadata": {
        "id": "view-in-github",
        "colab_type": "text"
      },
      "source": [
        "<a href=\"https://colab.research.google.com/github/KenKaneki2207/PYTHON/blob/FDS-Assignment/ASS4.ipynb\" target=\"_parent\"><img src=\"https://colab.research.google.com/assets/colab-badge.svg\" alt=\"Open In Colab\"/></a>"
      ]
    },
    {
      "cell_type": "code",
      "execution_count": null,
      "metadata": {
        "colab": {
          "base_uri": "https://localhost:8080/"
        },
        "id": "4gH8Ax561dzf",
        "outputId": "21e06fab-931e-4b00-d4d1-2d51aecf24f7"
      },
      "outputs": [
        {
          "output_type": "stream",
          "name": "stdout",
          "text": [
            "Enter the no. of rows 2\n",
            "Enter the no. of columns 3\n",
            "enter the no. of elements in row  1\n",
            "1 2 4\n",
            "enter the no. of elements in row  2\n",
            "7 8 5\n",
            "Enter the no. of rows 3\n",
            "Enter the no. of columns 2\n",
            "enter the no. of elements in row  1\n",
            "7 8\n",
            "enter the no. of elements in row  2\n",
            "2 0\n",
            "enter the no. of elements in row  3\n",
            "4 6\n",
            "----MATRIX-----\n",
            "[1, 2, 4]\n",
            "[7, 8, 5]\n",
            "----MATRIX-----\n",
            "[7, 8]\n",
            "[2, 0]\n",
            "[4, 6]\n"
          ]
        }
      ],
      "source": [
        "# Assignment 4\n",
        "# Matrix\n",
        "'''Matrix fuction to create a Matrix'''\n",
        "def Matrix(M,ans='n'):\n",
        "    M=[]\n",
        "    if ans != 'y':\n",
        "      global rows,col\n",
        "      rows = int(input(\"Enter the no. of rows \"))\n",
        "      col = int(input(\"Enter the no. of columns \"))\n",
        "      for i in range(1,rows+1):\n",
        "            print(\"enter the no. of elements in row \", i)\n",
        "            num = input()\n",
        "            num = num.split(\" \")\n",
        "            if len(num)!=col: #CHECKS THE VALUE AND COLUMN LENGTH ARE EQUAL OR NOT\n",
        "                print(\"No. of columns dont match\")\n",
        "                break\n",
        "            el=[]\n",
        "            for j in num:\n",
        "                j=int(j)\n",
        "                el.append(j)\n",
        "            M.append(el)\n",
        "    else:        #CREATES A ZERO MATRIX OF THE SAME DIMENSIONS OF THE OTHER TO MATRICES\n",
        "        r=[]     #TO ADD AND STUF WE NEED A ZERO MATRIX\n",
        "        for i in range(rows):   \n",
        "            for j in range(col):  \n",
        "                r.append(0)\n",
        "            M.append(r)\n",
        "            r=[]\n",
        "    return M\n",
        "8\n",
        "M1=M2=[]\n",
        "A=Matrix(M1)\n",
        "B=Matrix(M2)\n",
        "def display(M): #TO DISPLAY LIST AS A MATRIX\n",
        "  print(\"----MATRIX-----\")\n",
        "  for i in M:\n",
        "    print(i) \n",
        "display(A)\n",
        "display(B)\n",
        "\n"
      ]
    },
    {
      "cell_type": "code",
      "source": [
        "#ADDITION OF MATRICES\n",
        "if len(A)==len(B) and len(A[0])==len(B[0]):\n",
        "  res=[]\n",
        "  res=Matrix(res,'y')\n",
        "  print()\n",
        "  for i in range(len(A)):\n",
        "    for k in range(len(A[i])):\n",
        "      res[i][k]=(A[i][k]+B[i][k])\n",
        "  print(\"Additon of Matrix\")\n",
        "  display(res)\n",
        "else:\n",
        "  print(\"Addition not possible\")\n",
        "  "
      ],
      "metadata": {
        "id": "SQERv2d71j8M",
        "colab": {
          "base_uri": "https://localhost:8080/"
        },
        "outputId": "1e49051d-a930-4356-dce3-ea3abfeacddb"
      },
      "execution_count": null,
      "outputs": [
        {
          "output_type": "stream",
          "name": "stdout",
          "text": [
            "Addition not possible\n"
          ]
        }
      ]
    },
    {
      "cell_type": "code",
      "source": [
        "#transpose\n",
        "trans=[]\n",
        "rows,col=col,rows\n",
        "trans=Matrix(trans,'y')\n",
        "display(A)\n",
        "display(B)\n",
        "mat=input(\"Enter the matrix to be transposed: \")\n",
        "if mat==\"A\":\n",
        "  mat=A\n",
        "elif mat==\"B\":\n",
        "  mat=B\n",
        "for i in range(len(mat)):\n",
        "  for k in range(len(mat[i])):\n",
        "    try:\n",
        "      trans[k][i]=mat[i][k]\n",
        "    except IndexError:\n",
        "      continue\n",
        "display(trans)"
      ],
      "metadata": {
        "id": "AyGkIR9STQ14",
        "colab": {
          "base_uri": "https://localhost:8080/"
        },
        "outputId": "80fe8c3b-2001-42fc-9f8d-1c628306e63b"
      },
      "execution_count": null,
      "outputs": [
        {
          "output_type": "stream",
          "name": "stdout",
          "text": [
            "----MATRIX-----\n",
            "[1, 2, 4]\n",
            "[7, 8, 5]\n",
            "----MATRIX-----\n",
            "[7, 8]\n",
            "[2, 0]\n",
            "[4, 6]\n",
            "Enter the matrix to be transposed: A\n",
            "----MATRIX-----\n",
            "[1, 7]\n",
            "[2, 8]\n",
            "[4, 5]\n"
          ]
        }
      ]
    },
    {
      "cell_type": "code",
      "source": [
        "#MULTIPLICATION\n",
        "Mul=[]\n",
        "rows=len(A)\n",
        "col=len(B[0])\n",
        "Mul=Matrix(Mul,'y')\n",
        "for i in range(len(A)):\n",
        "    for j in range(len(B[0])):\n",
        "        for k in range(len(B)):\n",
        "            Mul[i][j] += A[i][k] * B[k][j]\n",
        "display(Mul)"
      ],
      "metadata": {
        "colab": {
          "base_uri": "https://localhost:8080/"
        },
        "id": "_c82HvHqDbm3",
        "outputId": "2f8391b2-a4c6-46ed-a914-66be9bc13058"
      },
      "execution_count": null,
      "outputs": [
        {
          "output_type": "stream",
          "name": "stdout",
          "text": [
            "----MATRIX-----\n",
            "[27, 32]\n",
            "[85, 86]\n"
          ]
        }
      ]
    },
    {
      "cell_type": "code",
      "source": [],
      "metadata": {
        "id": "o6rbgRJmHWB0"
      },
      "execution_count": null,
      "outputs": []
    }
  ]
}