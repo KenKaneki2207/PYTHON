{
  "nbformat": 4,
  "nbformat_minor": 0,
  "metadata": {
    "colab": {
      "provenance": [],
      "authorship_tag": "ABX9TyMiLbndm9kpYaRWiXoqAA2n",
      "include_colab_link": true
    },
    "kernelspec": {
      "name": "python3",
      "display_name": "Python 3"
    },
    "language_info": {
      "name": "python"
    }
  },
  "cells": [
    {
      "cell_type": "markdown",
      "metadata": {
        "id": "view-in-github",
        "colab_type": "text"
      },
      "source": [
        "<a href=\"https://colab.research.google.com/github/KenKaneki2207/PYTHON/blob/FDS-Assignment/ASS_5.ipynb\" target=\"_parent\"><img src=\"https://colab.research.google.com/assets/colab-badge.svg\" alt=\"Open In Colab\"/></a>"
      ]
    },
    {
      "cell_type": "code",
      "execution_count": null,
      "metadata": {
        "colab": {
          "base_uri": "https://localhost:8080/"
        },
        "id": "mbbPzBRhB3K0",
        "outputId": "e733ee26-348a-4fbf-9eab-3672258d490a"
      },
      "outputs": [
        {
          "output_type": "stream",
          "name": "stdout",
          "text": [
            "Enter the roll number of the students who attended the training program: 45\n",
            "Enter the roll number of the students who attended the training program: 21\n",
            "Enter the roll number of the students who attended the training program: 19\n",
            "Enter the roll number of the students who attended the training program: 23\n",
            "Enter the roll number of the students who attended the training program: 10\n",
            "Enter the roll number of the students who attended the training program: 74\n",
            "Enter the roll number of the students who attended the training program: \n",
            "The attended student list\n",
            " [45, 21, 19, 23, 10, 74]\n"
          ]
        }
      ],
      "source": [
        "#LIST APPENDING\n",
        "I=1\n",
        "l=[]\n",
        "while I==1:\n",
        "  roll=input(\"Enter the roll number of the students who attended the training program: \")\n",
        "  if roll.isnumeric()==True:\n",
        "    roll=int(roll)\n",
        "    l.append(roll)\n",
        "  else:\n",
        "    print(\"The attended student list\\n\",l)\n",
        "    break"
      ]
    },
    {
      "cell_type": "code",
      "source": [
        "#LINEAR SEARCH\n",
        "num=int(input(\"Enter the roll number to be searched: \"))\n",
        "def linear_search(num):\n",
        "    if num in l:\n",
        "      print(\"Student was present\")\n",
        "    else:\n",
        "      print(\"Student was absent\")\n",
        "linear_search(num)"
      ],
      "metadata": {
        "colab": {
          "base_uri": "https://localhost:8080/"
        },
        "id": "5ntthSeVG4bB",
        "outputId": "eb8f78a4-dab8-4564-d3bf-bea56bd7a5d4"
      },
      "execution_count": null,
      "outputs": [
        {
          "output_type": "stream",
          "name": "stdout",
          "text": [
            "Enter the roll number to be searched: 74\n",
            "Student was present\n"
          ]
        }
      ]
    },
    {
      "cell_type": "code",
      "source": [],
      "metadata": {
        "id": "lE89pM_XEBD7"
      },
      "execution_count": null,
      "outputs": []
    }
  ]
}