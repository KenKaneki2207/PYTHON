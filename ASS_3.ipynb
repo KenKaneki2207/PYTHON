{
  "nbformat": 4,
  "nbformat_minor": 0,
  "metadata": {
    "colab": {
      "provenance": [],
      "include_colab_link": true
    },
    "kernelspec": {
      "name": "python3",
      "display_name": "Python 3"
    },
    "language_info": {
      "name": "python"
    }
  },
  "cells": [
    {
      "cell_type": "markdown",
      "metadata": {
        "id": "view-in-github",
        "colab_type": "text"
      },
      "source": [
        "<a href=\"https://colab.research.google.com/github/KenKaneki2207/PYTHON/blob/FDS-Assignment/ASS_3.ipynb\" target=\"_parent\"><img src=\"https://colab.research.google.com/assets/colab-badge.svg\" alt=\"Open In Colab\"/></a>"
      ]
    },
    {
      "cell_type": "code",
      "execution_count": null,
      "metadata": {
        "id": "PPRa7jgY02-C"
      },
      "outputs": [],
      "source": [
        "#converting string to list\n",
        "s1=input(\"Enter a string :\")\n",
        "l=s1.split(' ')\n",
        "print(l)"
      ]
    },
    {
      "cell_type": "code",
      "source": [
        "#Longest in the string\n",
        "length=0\n",
        "for i in l:\n",
        "  for j in l:\n",
        "    if len(i)>len(j):\n",
        "      length=len(i)\n",
        "for k in l:\n",
        "  if len(k)==length:\n",
        "    print(\"Largest in the string\",k)\n"
      ],
      "metadata": {
        "colab": {
          "base_uri": "https://localhost:8080/"
        },
        "id": "PiE0NENaqb9a",
        "outputId": "fba96322-b47f-42a8-827e-9f4e15b11b3c"
      },
      "execution_count": null,
      "outputs": [
        {
          "output_type": "stream",
          "name": "stdout",
          "text": [
            "Largest in the string ganesh\n",
            "Largest in the string pankaj\n"
          ]
        }
      ]
    },
    {
      "cell_type": "code",
      "source": [
        "#determine the frequency of a character\n",
        "s2=input(\"Enter a string :\")\n",
        "f=0\n",
        "for el in s1:\n",
        "  if el==s2:\n",
        "    f+=1\n",
        "print(\"Frequency of \",s2,\"is \",f)"
      ],
      "metadata": {
        "colab": {
          "base_uri": "https://localhost:8080/"
        },
        "id": "AGlxypztvDON",
        "outputId": "ccfb702a-a12e-4558-907e-0dc013ea3dd4"
      },
      "execution_count": null,
      "outputs": [
        {
          "output_type": "stream",
          "name": "stdout",
          "text": [
            "Enter a string :n\n",
            "Frequency of  n is  2\n"
          ]
        }
      ]
    },
    {
      "cell_type": "code",
      "source": [
        "#determine palindrome\n",
        "s3=s1[::-1]\n",
        "if s3==s1:\n",
        "  print(\"Its palindrome \")\n",
        "else:\n",
        "  print(\"Its not a palindrome\")#determine palindrome"
      ],
      "metadata": {
        "colab": {
          "base_uri": "https://localhost:8080/"
        },
        "id": "L80TZ6981dDz",
        "outputId": "5796eba7-d74b-4ab1-82ad-30b30cefe4b6"
      },
      "execution_count": null,
      "outputs": [
        {
          "output_type": "stream",
          "name": "stdout",
          "text": [
            "Its not a palindrome\n"
          ]
        }
      ]
    },
    {
      "cell_type": "code",
      "source": [
        "#display index of first appereance of substring\n",
        "s4=input(\"Enter a sub string :\")\n",
        "print(\"Index of \",s4, \" is \",s1.find(s4))"
      ],
      "metadata": {
        "colab": {
          "base_uri": "https://localhost:8080/"
        },
        "id": "YKr5DmIb4WZm",
        "outputId": "af006eb0-e497-406a-de36-7b6e3a3741ed"
      },
      "execution_count": null,
      "outputs": [
        {
          "output_type": "stream",
          "name": "stdout",
          "text": [
            "Enter a sub string :esh\n",
            "Index of  esh  is  3\n"
          ]
        }
      ]
    },
    {
      "cell_type": "code",
      "source": [
        "#display occurence of substring in the string\n",
        "s5=input(\"Enter a sub string :\")\n",
        "count=0\n",
        "for i in l:\n",
        "  if i==s5:\n",
        "    count+=1\n",
        "print(\"Occurence of \",s5, \"is \",count)"
      ],
      "metadata": {
        "colab": {
          "base_uri": "https://localhost:8080/"
        },
        "id": "08cNsMkm5u6Z",
        "outputId": "a5f12af5-6400-4d9b-a66d-ba83070147b3"
      },
      "execution_count": null,
      "outputs": [
        {
          "output_type": "stream",
          "name": "stdout",
          "text": [
            "Enter a sub string :ganesh\n",
            "Occurence of  ganesh is  1\n"
          ]
        }
      ]
    }
  ]
}